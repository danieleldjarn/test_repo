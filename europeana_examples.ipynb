{
 "cells": [
  {
   "cell_type": "markdown",
   "metadata": {},
   "source": [
    "# Europeana API Interactive Examples\n",
    "\n",
    "This notebook demonstrates how to use the EuropeanaClient library to fetch cultural heritage data from the Europeana API. The examples are based on the scripts in `europeana.py`.\n",
    "\n",
    "## Setup\n",
    "\n",
    "Before running the examples, make sure you have:\n",
    "1. An API key from [Europeana API](https://api.europeana.eu)\n",
    "2. Set the `EUROPEANA_API_KEY` environment variable or provide it directly in the code\n",
    "3. Required packages installed (httpx, matplotlib, python-dotenv, europeana-client)\n",
    "\n",
    "Let's start by importing the necessary libraries and setting up the client."
   ]
  },
  {
   "cell_type": "code",
   "execution_count": null,
   "metadata": {},
   "outputs": [],
   "source": [
    "# Import required libraries\n",
    "import collections\n",
    "import os\n",
    "from typing import Dict\n",
    "\n",
    "import matplotlib.pyplot as plt\n",
    "from dotenv import load_dotenv\n",
    "from europeana_client import (\n",
    "    EuropeanaClient,\n",
    "    SearchFields,\n",
    "    ProxyFields,\n",
    "    FilterFields,\n",
    "    MediaType,\n",
    "    Profile,\n",
    "    Reusability,\n",
    ")\n",
    "\n",
    "# Load environment variables\n",
    "load_dotenv()\n",
    "\n",
    "# Get API key\n",
    "api_key = os.getenv(\"EUROPEANA_API_KEY\")\n",
    "if not api_key:\n",
    "    # If no environment variable is set, you can enter your API key directly here\n",
    "    api_key = input(\"Enter your Europeana API key: \")\n",
    "\n",
    "print(f\"API key loaded: {'Yes' if api_key else 'No'}\")"
   ]
  },
  {
   "cell_type": "code",
   "execution_count": null,
   "metadata": {},
   "outputs": [],
   "source": [
    "# Helper functions from europeana.py\n",
    "\n",
    "def analyze_holdings(records: list[Dict]) -> collections.Counter:\n",
    "    \"\"\"Analyze records by holding country.\"\"\"\n",
    "    \n",
    "    def get_country(rec: Dict) -> str:\n",
    "        \"\"\"Extract country from record, handling various formats.\"\"\"\n",
    "        country = rec.get(\"country\")\n",
    "        if not country:\n",
    "            return \"Unknown\"\n",
    "        elif isinstance(country, list):\n",
    "            if len(country) > 1:\n",
    "                # If multiple countries, log a warning and return the first one\n",
    "                print(f\"Multiple countries found for record {rec.get('id')}: {country}\")\n",
    "            return country[0] if country else \"Unknown\"\n",
    "        else:\n",
    "            return country\n",
    "    \n",
    "    return collections.Counter(get_country(rec) for rec in records)\n",
    "\n",
    "\n",
    "def create_visualization(counts: collections.Counter, total_records: int, title_suffix: str = \"Indonesian spatial metadata\") -> None:\n",
    "    \"\"\"Create and display a bar chart of holdings by country.\"\"\"\n",
    "    countries, values = zip(*counts.most_common())\n",
    "    \n",
    "    plt.figure(figsize=(12, 6))\n",
    "    plt.barh(countries, values)\n",
    "    plt.gca().invert_yaxis()\n",
    "    plt.title(f\"Where {total_records} Europeana items with {title_suffix} are held\")\n",
    "    plt.xlabel(\"Number of items\")\n",
    "    plt.tight_layout()\n",
    "    plt.show()\n",
    "\n",
    "print(\"Helper functions loaded successfully!\")"
   ]
  },
  {
   "cell_type": "markdown",
   "metadata": {},
   "source": [
    "## Example 1: Indonesia Cultural Heritage Search\n",
    "\n",
    "This example searches for items with Indonesian spatial metadata and analyzes the holdings by country."
   ]
  },
  {
   "cell_type": "code",
   "execution_count": null,
   "metadata": {},
   "outputs": [],
   "source": [
    "# Create client\n",
    "client = EuropeanaClient(api_key)\n",
    "\n",
    "print(\"=== Indonesia Cultural Heritage Example ===\")\n",
    "\n",
    "# Search parameters\n",
    "query_text = \"Indonesia\"\n",
    "field = ProxyFields.DCTERMS_SPATIAL\n",
    "max_records = 500  # Reduced for notebook demo\n",
    "\n",
    "print(f\"Searching for items where {field} contains '{query_text}'...\")\n",
    "\n",
    "# Build query\n",
    "query_builder = client.query().field(field, query_text)\n",
    "\n",
    "# Fetch records using the iterator\n",
    "records = []\n",
    "try:\n",
    "    for i, record in enumerate(client.search_all(query_builder, max_records=max_records)):\n",
    "        records.append(record)\n",
    "        if (i + 1) % 100 == 0:\n",
    "            print(f\"Fetched {i + 1} records...\")\n",
    "except Exception as e:\n",
    "    print(f\"Error during fetch: {e}\")\n",
    "    if not records:\n",
    "        print(\"No records retrieved – check query or API key\")\n",
    "\n",
    "print(f\"\\nTotal records retrieved: {len(records)}\")"
   ]
  },
  {
   "cell_type": "code",
   "execution_count": null,
   "metadata": {},
   "outputs": [],
   "source": [
    "# Analyze the data if we have records\n",
    "if records:\n",
    "    # Analyze and visualize\n",
    "    counts = analyze_holdings(records)\n",
    "    \n",
    "    # Show top 10 countries\n",
    "    print(\"Top 10 holding countries:\")\n",
    "    for country, count in counts.most_common(10):\n",
    "        print(f\"  {country}: {count} items\")\n",
    "    \n",
    "    # Create visualization\n",
    "    create_visualization(counts, len(records))\n",
    "    \n",
    "    print(f\"\\nAnalysis complete! Retrieved {len(records)} records from {len(counts)} countries.\")\n",
    "else:\n",
    "    print(\"No records to analyze.\")"
   ]
  },
  {
   "cell_type": "markdown",
   "metadata": {},
   "source": [
    "## Example 2: Search by Creator\n",
    "\n",
    "Search for works by a specific creator, in this case Vincent van Gogh."
   ]
  },
  {
   "cell_type": "code",
   "execution_count": null,
   "metadata": {},
   "outputs": [],
   "source": [
    "print(\"=== Creator Search Example ===\")\n",
    "print(\"Searching for works by Vincent van Gogh...\")\n",
    "\n",
    "query = client.query().creator(\"Vincent van Gogh\").media_type(MediaType.IMAGE)\n",
    "results = client.search(query)\n",
    "\n",
    "print(f\"Found {results.total_results} items\")\n",
    "\n",
    "if results.items:\n",
    "    print(\"\\nFirst 5 items:\")\n",
    "    for i, item in enumerate(results.items[:5]):\n",
    "        title = item.get('title', ['Untitled'])\n",
    "        title = title[0] if isinstance(title, list) else title\n",
    "        creator = item.get('dcCreator', ['Unknown creator'])\n",
    "        creator = creator[0] if isinstance(creator, list) else creator\n",
    "        print(f\"  {i+1}. {title} by {creator}\")\n",
    "        \n",
    "        # Show additional metadata\n",
    "        if 'year' in item:\n",
    "            print(f\"      Year: {item['year']}\")\n",
    "        if 'dataProvider' in item:\n",
    "            provider = item['dataProvider'][0] if isinstance(item['dataProvider'], list) else item['dataProvider']\n",
    "            print(f\"      Provider: {provider}\")\n",
    "        print()"
   ]
  },
  {
   "cell_type": "markdown",
   "metadata": {},
   "source": [
    "## Example 3: Geographic Search\n",
    "\n",
    "Search for items from a specific location with geographic coordinates."
   ]
  },
  {
   "cell_type": "code",
   "execution_count": null,
   "metadata": {},
   "outputs": [],
   "source": [
    "print(\"=== Geographic Search Example ===\")\n",
    "print(\"Searching for items from Amsterdam within 25km...\")\n",
    "\n",
    "# Amsterdam coordinates: 52.3676° N, 4.9041° E\n",
    "query = client.query().location(\"Amsterdam\").geographic(52.3676, 4.9041, 25)\n",
    "results = client.search(query)\n",
    "\n",
    "print(f\"Found {results.total_results} items\")\n",
    "\n",
    "if results.items:\n",
    "    print(\"\\nSample items from Amsterdam area:\")\n",
    "    for i, item in enumerate(results.items[:3]):\n",
    "        title = item.get('title', ['Untitled'])\n",
    "        title = title[0] if isinstance(title, list) else title\n",
    "        place = item.get('place', ['Unknown place'])\n",
    "        place = place[0] if isinstance(place, list) else place\n",
    "        print(f\"  {i+1}. {title}\")\n",
    "        print(f\"      Place: {place}\")\n",
    "        print()"
   ]
  },
  {
   "cell_type": "markdown",
   "metadata": {},
   "source": [
    "## Example 4: Time Period Search\n",
    "\n",
    "Search for items from a specific time period."
   ]
  },
  {
   "cell_type": "code",
   "execution_count": null,
   "metadata": {},
   "outputs": [],
   "source": [
    "print(\"=== Time Period Search Example ===\")\n",
    "print(\"Searching for items from the 19th century (1800-1899)...\")\n",
    "\n",
    "query = client.query().time_period(1800, 1899).rows(20)\n",
    "results = client.search(query)\n",
    "\n",
    "print(f\"Found {results.total_results} items\")\n",
    "\n",
    "if results.items:\n",
    "    print(\"\\nSample 19th century items:\")\n",
    "    for i, item in enumerate(results.items[:5]):\n",
    "        title = item.get('title', ['Untitled'])\n",
    "        title = title[0] if isinstance(title, list) else title\n",
    "        year = item.get('year', ['Unknown year'])\n",
    "        year = year[0] if isinstance(year, list) else year\n",
    "        print(f\"  {i+1}. {title} ({year})\")"
   ]
  },
  {
   "cell_type": "markdown",
   "metadata": {},
   "source": [
    "## Example 5: Public Domain Content\n",
    "\n",
    "Search for public domain content with specific subject matter."
   ]
  },
  {
   "cell_type": "code",
   "execution_count": null,
   "metadata": {},
   "outputs": [],
   "source": [
    "print(\"=== Public Domain Search Example ===\")\n",
    "print(\"Searching for public domain landscape images...\")\n",
    "\n",
    "query = (\n",
    "    client.query()\n",
    "    .text(\"landscape\")\n",
    "    .public_domain()\n",
    "    .media_type(MediaType.IMAGE)\n",
    "    .rows(20)\n",
    ")\n",
    "results = client.search(query)\n",
    "\n",
    "print(f\"Found {results.total_results} public domain items\")\n",
    "\n",
    "if results.items:\n",
    "    print(\"\\nSample public domain landscape images:\")\n",
    "    for i, item in enumerate(results.items[:5]):\n",
    "        title = item.get('title', ['Untitled'])\n",
    "        title = title[0] if isinstance(title, list) else title\n",
    "        rights = item.get('rights', ['Unknown rights'])\n",
    "        rights = rights[0] if isinstance(rights, list) else rights\n",
    "        print(f\"  {i+1}. {title}\")\n",
    "        print(f\"      Rights: {rights}\")\n",
    "        if 'edmPreview' in item:\n",
    "            print(f\"      Preview: {item['edmPreview']}\")\n",
    "        print()"
   ]
  },
  {
   "cell_type": "markdown",
   "metadata": {},
   "source": [
    "## Example 6: Institution-Based Search\n",
    "\n",
    "Search for items from a specific cultural institution."
   ]
  },
  {
   "cell_type": "code",
   "execution_count": null,
   "metadata": {},
   "outputs": [],
   "source": [
    "print(\"=== Institution Search Example ===\")\n",
    "print(\"Searching for items from the British Museum...\")\n",
    "\n",
    "query = client.query().institution(\"British Museum\").rows(20)\n",
    "results = client.search(query)\n",
    "\n",
    "print(f\"Found {results.total_results} items\")\n",
    "\n",
    "if results.items:\n",
    "    print(\"\\nSample items from British Museum:\")\n",
    "    for i, item in enumerate(results.items[:5]):\n",
    "        title = item.get('title', ['Untitled'])\n",
    "        title = title[0] if isinstance(title, list) else title\n",
    "        provider = item.get('dataProvider', ['Unknown provider'])\n",
    "        provider = provider[0] if isinstance(provider, list) else provider\n",
    "        print(f\"  {i+1}. {title}\")\n",
    "        print(f\"      Data Provider: {provider}\")\n",
    "        if 'type' in item:\n",
    "            item_type = item['type']\n",
    "            item_type = item_type[0] if isinstance(item_type, list) else item_type\n",
    "            print(f\"      Type: {item_type}\")\n",
    "        print()"
   ]
  },
  {
   "cell_type": "markdown",
   "metadata": {},
   "source": [
    "## Example 7: Faceted Search\n",
    "\n",
    "Perform a faceted search to understand the distribution of data across different dimensions."
   ]
  },
  {
   "cell_type": "code",
   "execution_count": null,
   "metadata": {},
   "outputs": [],
   "source": [
    "print(\"=== Faceted Search Example ===\")\n",
    "print(\"Getting faceted results for paintings...\")\n",
    "\n",
    "query = (\n",
    "    client.query()\n",
    "    .subject(\"painting\")\n",
    "    .facets(ProxyFields.DC_CREATOR, FilterFields.RIGHTS, FilterFields.PROVIDER)\n",
    "    .profile(Profile.FACETS)\n",
    "    .rows(0)  # We don't need the actual items, just the facets\n",
    ")\n",
    "results = client.search(query)\n",
    "\n",
    "print(f\"Total paintings found: {results.total_results}\")\n",
    "\n",
    "if results.facets:\n",
    "    for facet in results.facets:\n",
    "        print(f\"\\n{facet['name']} (top 10):\")\n",
    "        for field in facet.get(\"fields\", [])[:10]:\n",
    "            print(f\"  - {field['label']}: {field['count']} items\")\n",
    "else:\n",
    "    print(\"No facets returned\")"
   ]
  },
  {
   "cell_type": "markdown",
   "metadata": {},
   "source": [
    "## Example 8: Complex Chained Query\n",
    "\n",
    "Demonstrate a complex query using multiple chained filters."
   ]
  },
  {
   "cell_type": "code",
   "execution_count": null,
   "metadata": {},
   "outputs": [],
   "source": [
    "print(\"=== Complex Chained Query Example ===\")\n",
    "print(\"Searching for items from Paris between 1880-1890, within 50km of city center...\")\n",
    "\n",
    "# Paris coordinates: 48.8566° N, 2.3522° E\n",
    "query = (\n",
    "    client.query()\n",
    "    .location('Paris')\n",
    "    .time_period(1880, 1890)\n",
    "    .public_domain()\n",
    "    .geographic(48.8566, 2.3522, 50)\n",
    "    .media_type(MediaType.IMAGE)\n",
    "    .rows(10)\n",
    ")\n",
    "\n",
    "results = client.search(query)\n",
    "print(f\"Found {results.total_results} items matching all criteria\")\n",
    "\n",
    "if results.items:\n",
    "    print(\"\\nMatching items:\")\n",
    "    for i, item in enumerate(results.items):\n",
    "        title = item.get('title', ['Untitled'])\n",
    "        title = title[0] if isinstance(title, list) else title\n",
    "        creator = item.get('dcCreator', ['Unknown creator'])\n",
    "        creator = creator[0] if isinstance(creator, list) else creator\n",
    "        year = item.get('year', ['Unknown year'])\n",
    "        year = year[0] if isinstance(year, list) else year\n",
    "        \n",
    "        print(f\"  {i+1}. {title}\")\n",
    "        print(f\"      Creator: {creator}\")\n",
    "        print(f\"      Year: {year}\")\n",
    "        if 'place' in item:\n",
    "            place = item['place']\n",
    "            place = place[0] if isinstance(place, list) else place\n",
    "            print(f\"      Place: {place}\")\n",
    "        print()"
   ]
  },
  {
   "cell_type": "markdown",
   "metadata": {},
   "source": [
    "## Cleanup\n",
    "\n",
    "Close the client connection."
   ]
  },
  {
   "cell_type": "code",
   "execution_count": null,
   "metadata": {},
   "outputs": [],
   "source": [
    "# Close the client\n",
    "client.close()\n",
    "print(\"Client connection closed.\")"
   ]
  },
  {
   "cell_type": "markdown",
   "metadata": {},
   "source": [
    "## Summary\n",
    "\n",
    "This notebook demonstrated various ways to use the Europeana API:\n",
    "\n",
    "1. **Basic Search**: Simple text searches with field targeting\n",
    "2. **Creator Search**: Finding works by specific artists\n",
    "3. **Geographic Search**: Location-based queries with coordinate filtering\n",
    "4. **Time Period Search**: Filtering by date ranges\n",
    "5. **Rights-based Search**: Finding public domain content\n",
    "6. **Institution Search**: Filtering by data provider\n",
    "7. **Faceted Search**: Understanding data distribution\n",
    "8. **Complex Queries**: Chaining multiple filters\n",
    "\n",
    "Each example shows different aspects of the Europeana Client API and demonstrates how to handle the returned data structure.\n",
    "\n",
    "### Key API Concepts:\n",
    "\n",
    "- **Query Builder**: Use `client.query()` to build complex searches\n",
    "- **Chaining**: Multiple filters can be chained together\n",
    "- **Media Types**: Filter by IMAGE, TEXT, VIDEO, SOUND, 3D\n",
    "- **Profiles**: Control the amount of metadata returned\n",
    "- **Facets**: Analyze data distribution across fields\n",
    "- **Geographic**: Search within radius of coordinates\n",
    "- **Rights**: Filter by usage rights (public domain, etc.)\n",
    "\n",
    "For more information, see:\n",
    "- [Europeana API Documentation](https://europeana.atlassian.net/wiki/spaces/EF/pages/2385313793/Europeana+APIs+Documentation)\n",
    "- [Search API Reference](https://api.europeana.eu/console/index.html?url=docs/v3/search.json#/)"
   ]
  }
 ],
 "metadata": {
  "kernelspec": {
   "display_name": "creativeflip (3.13.3)",
   "language": "python",
   "name": "python3"
  },
  "language_info": {
   "codemirror_mode": {
    "name": "ipython",
    "version": 3
   },
   "file_extension": ".py",
   "mimetype": "text/x-python",
   "name": "python",
   "nbconvert_exporter": "python",
   "pygments_lexer": "ipython3",
   "version": "3.13.3"
  }
 },
 "nbformat": 4,
 "nbformat_minor": 4
}
